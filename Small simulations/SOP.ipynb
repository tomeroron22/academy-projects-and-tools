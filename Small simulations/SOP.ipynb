{
 "cells": [
  {
   "cell_type": "code"
   "execution_count": 2,
   "metadata": {},
     "source": [
    "import numpy as np\n",
    "import Bio.pairwise2 as pw"
   ]
  },
  {
   "cell_type": "code",
   "execution_count": 12,
   "metadata": {},
   "outputs": [],
   "source": [
    "\n",
    "g,m, miss = -2,5,-3\n",
    "\n",
    "def score(c1,c2,c3):\n",
    "    return pair_score(c1,c2)+pair_score(c1,c3)+pair_score(c2,c3)\n",
    "\n",
    "def pair_score(c1,c2):\n",
    "    global g,m, miss\n",
    "    if c1 == \"-\" == c2: # both gap\n",
    "        return 0\n",
    "    if c2 == \"-\" or c1 == \"-\": \n",
    "            return g # gap in c1\n",
    "    if c1 == c2:\n",
    "        return m \n",
    "    \n",
    "    return miss #missmatch \n",
    "\n",
    "def retrace(steps,s1,s2,s3):\n",
    "    global g,m, miss\n",
    "    n1,n2,n3 = len(s1), len(s2), len(s3)\n",
    "    res = [\"\",\"\",\"\"]\n",
    "    while (n1>0) or (n2>0) or (n3>0):\n",
    "        step = steps[n1,n2,n3]\n",
    "        if step == (-1,-1,0):\n",
    "            res[0] += s1[n1-1]\n",
    "            res[1] += s2[n2-1]\n",
    "            res[2] += \"-\"\n",
    "            n1 -=1\n",
    "            n2 -=1\n",
    "\n",
    "        elif step == (-1,0,-1):\n",
    "            res[0] += s1[n1-1]\n",
    "            res[1] += \"-\"\n",
    "            res[2] += s3[n3-1]\n",
    "            n1 -=1   \n",
    "            n3 -=1\n",
    "\n",
    "        elif step == (0,-1,-1):\n",
    "            res[0] += \"-\"\n",
    "            res[1] += s2[n2-1]\n",
    "            res[2] += s3[n3-1]        \n",
    "            n2 -=1\n",
    "            n3 -=1\n",
    "\n",
    "        elif step == (-1,0,0):\n",
    "            res[0] += s1[n1-1]\n",
    "            res[1] += \"-\"\n",
    "            res[2] += \"-\"\n",
    "            n1 -=1\n",
    "            \n",
    "        elif step == (0,0,-1):\n",
    "            res[0] += \"-\"\n",
    "            res[1] += \"-\"\n",
    "            res[2] += s3[n3-1]\n",
    "            n3 -=1\n",
    "\n",
    "        elif step == (0,-1,0):\n",
    "            res[0] += \"-\"\n",
    "            res[1] += s2[n2-1]\n",
    "            res[2] += \"-\"\n",
    "            n2 -=1\n",
    "                        \n",
    "        elif step == (-1,-1,-1):\n",
    "            res[0] += s1[n1-1]\n",
    "            res[1] += s2[n2-1]\n",
    "            res[2] += s3[n3-1]\n",
    "            n1 -=1\n",
    "            n2 -=1\n",
    "            n3 -=1\n",
    "\n",
    "    return res[0][::-1],res[1][::-1], res[2][::-1]  \n",
    "\n",
    "def SOP(s1,s2,s3):\n",
    "    n1,n2,n3 = len(s1), len(s2), len(s3)\n",
    "    matrix = np.zeros((n1+1,n2+1,n3+1))\n",
    "    steps = np.array([[[ None for _ in range(n3+1)] for _ in range(n2+1)] for _ in range(n1+1)])\n",
    "  \n",
    "    for i in range(n1+1):\n",
    "        for j in range (n2+1):\n",
    "            for k in range(n3+1):\n",
    "                # 2 seq begins with gaps \n",
    "                if i == j == 0:\n",
    "                    matrix[i,j,k] = g * 2 * k\n",
    "                    steps[i,j,k] = (0,0,-1)\n",
    "                elif i == k == 0:\n",
    "                    matrix[i,j,k] = g * 2 * j\n",
    "                    steps[i,j,k] = (0,-1,0)\n",
    "                elif j == k == 0:\n",
    "                    matrix[i,j,k] = g * 2 * i\n",
    "                    steps[i,j,k] = (-1,0,0)\n",
    "                # One seq begins with gap, the other two sequences need to be aligned\n",
    "                elif i == 0:\n",
    "                    pw_score = [matrix[i,j-1,k-1] + pair_score(s2[j-1],s3[k-1]),\n",
    "                                 matrix[i,j,k-1] + pair_score(\"-\",s3[k-1]),\n",
    "                                 matrix[i,j-1,k] + pair_score(\"-\",s2[j-1])]\n",
    "                    \n",
    "                    matrix[i,j,k] = g * 2 + max(pw_score)\n",
    "                    steps[i,j,k] = [(0,-1,-1),(0,0,-1),(0,-1,0)][np.argmax(pw_score)]\n",
    "                elif j == 0:\n",
    "                    pw_score = [matrix[i-1,j,k-1] + pair_score(s1[i-1],s3[k-1]),\n",
    "                                matrix[i,j,k-1] + pair_score(\"-\",s3[k-1]),\n",
    "                                matrix[i-1,j,k] + pair_score(\"-\",s1[i-1])]\n",
    "                    \n",
    "                    matrix[i,j,k] = g * 2 + max(pw_score)\n",
    "                    steps[i,j,k] = [(-1,0,-1),(0,0,-1),(-1,0,0)][np.argmax(pw_score)]\n",
    "                elif k == 0:\n",
    "                    pw_score = [matrix[i-1,j-1,k] + pair_score(s1[i-1],s2[j-1]),\n",
    "                                matrix[i,j-1,k] + pair_score(\"-\",s2[j-1]), \n",
    "                                matrix[i-1,j,k] + pair_score(\"-\",s1[i-1])]\n",
    "                    \n",
    "                    matrix[i,j,k] = g * 2 + max(pw_score)\n",
    "                    steps[i,j,k] = [(-1,-1,0),(0,-1,0),(-1,0,0)][np.argmax(pw_score)]\n",
    "                # aligment using dp of SOP\n",
    "                else:\n",
    "                    pot_score = ([\n",
    "                        matrix[i-1,j-1,k-1] + score(s1[i-1], s2[j-1], s3[k-1]),\n",
    "                        matrix[i-1,j-1,k]   + score(s1[i-1], s2[j-1], \"-\"),\n",
    "                        matrix[i-1,j,k-1]   + score(s1[i-1], \"-\", s3[k-1]),\n",
    "                        matrix[i,j-1,k-1]   + score(\"-\", s2[j-1], s3[k-1]),\n",
    "                        matrix[i-1,j,k]     + score(s1[i-1], \"-\", \"-\"),\n",
    "                        matrix[i,j,k-1]     + score(\"-\", \"-\", s3[k-1]),\n",
    "                        matrix[i,j-1,k]     + score(\"-\", s2[j-1], \"-\")\n",
    "                    ])\n",
    "\n",
    "                    goto =[(-1,-1,-1),\n",
    "                            (-1,-1,0), (-1,0,-1), (0,-1,-1),\n",
    "                            (-1,0,0), (0,0,-1), (0,-1,0)]\n",
    "                    matrix[i,j,k] = max(pot_score)\n",
    "                    steps[i,j,k] = goto[np.argmax(pot_score)]\n",
    "   \n",
    "    a1,a2,a3 = retrace(steps,s1,s2,s3)\n",
    "    print(f\"{a1}\\n{a2}\\n{a3}\")\n",
    "    return matrix[-1,-1,-1]\n",
    "\n",
    "\n",
    "\n",
    "\n"
   ]
  },
  {
   "cell_type": "code",
   "execution_count": 13,
   "metadata": {},
   "outputs": [
    {
     "name": "stdout",
     "output_type": "stream",
     "text": [
      "GATC-T\n",
      "G-T-GT\n",
      "-ATCG-\n"
     ]
    },
    {
     "data": {
      "text/plain": [
       "20.0"
      ]
     },
     "execution_count": 13,
     "metadata": {},
     "output_type": "execute_result"
    }
   ],
   "source": [
    "al = pw.align.globalms\n",
    "s1 =\"GATCT\"\n",
    "s2 =\"GTGT\"\n",
    "s3 =\"ATCG\"\n",
    "\n",
    "SOP(s1, s2,s3)"
   ]
  },
  {
   "cell_type": "code",
   "execution_count": 14,
   "metadata": {},
   "outputs": [
    {
     "name": "stdout",
     "output_type": "stream",
     "text": [
      "GATCT\n",
      "G-TGT\n",
      "score:10.0\n",
      "\n",
      "GATCT\n",
      "-ATCG\n",
      "score:10.0\n",
      "\n",
      "GT-GT\n",
      "ATCG-\n",
      "score:3.0\n",
      "\n"
     ]
    }
   ],
   "source": [
    "a = al(s1, s2,m, miss, g,g)[0] \n",
    "print(f\"{a.seqA}\\n{a.seqB}\\nscore:{a.score}\\n\")\n",
    "a = al(s1, s3,m, miss, g,g)[0]\n",
    "print(f\"{a.seqA}\\n{a.seqB}\\nscore:{a.score}\\n\")\n",
    "a = al(s2,s3,m, miss, g,g)[0]\n",
    "print(f\"{a.seqA}\\n{a.seqB}\\nscore:{a.score}\\n\")"
   ]
  },
  {
   "cell_type": "code",
   "execution_count": null,
   "metadata": {},
   "outputs": [],
   "source": []
  }
 ],
 "metadata": {
  "kernelspec": {
   "display_name": "Python 3",
   "language": "python",
   "name": "python3"
  },
  "language_info": {
   "codemirror_mode": {
    "name": "ipython",
    "version": 3
   },
   "file_extension": ".py",
   "mimetype": "text/x-python",
   "name": "python",
   "nbconvert_exporter": "python",
   "pygments_lexer": "ipython3",
   "version": "3.11.8"
  }
 },
 "nbformat": 4,
 "nbformat_minor": 2
}
